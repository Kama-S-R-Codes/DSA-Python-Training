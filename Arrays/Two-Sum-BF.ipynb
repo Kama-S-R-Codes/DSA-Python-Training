{
 "cells": [
  {
   "cell_type": "markdown",
   "id": "b6302dcd",
   "metadata": {},
   "source": [
    "# Two Sum Problem\n",
    "**Problem:**  \n",
    "Given an array of numbers, return the indices of the two numbers that add up to a target.\n",
    "\n",
    "**Example:**  \n",
    "Input: nums = [2, 7, 11, 15], target = 9  \n",
    "Output: [0, 1]  \n",
    "Explanation: nums[0] + nums[1] = 2 + 7 = 9"
   ]
  },
  {
   "cell_type": "markdown",
   "id": "2fc56cd1",
   "metadata": {},
   "source": [
    "## Approach (Brute Force)\n",
    "1. Checking every pair of numbers\n",
    "2. Check if their sum == target then return indices\n",
    "\n",
    "**Time Complexity:** O(n)  \n",
    "**Space Complexity:** O(n)\n"
   ]
  },
  {
   "cell_type": "code",
   "execution_count": 2,
   "id": "6e252be5",
   "metadata": {},
   "outputs": [
    {
     "name": "stdout",
     "output_type": "stream",
     "text": [
      "The indices are:  [0, 1]\n"
     ]
    }
   ],
   "source": [
    "class Solution:\n",
    "    def Twosum(self,nums:list[int], target:int)->list[int]:\n",
    "        for i in range(len(nums)):\n",
    "            for j in range(i+1, len(nums)):\n",
    "                if nums[i]+nums[j]==target:\n",
    "                    return [i,j]\n",
    "        return()\n",
    "nums=[2,7,11,15]\n",
    "target=9\n",
    "solution=Solution() #Object Creation\n",
    "result=solution.Twosum(nums,target) #Call the function using the object\n",
    "print(\"The indices are: \",result)"
   ]
  },
  {
   "cell_type": "markdown",
   "id": "52590bea",
   "metadata": {},
   "source": [
    "## Approach (Using Hash Map)\n",
    "1. Loop through each element in the array.\n",
    "2. Check if (target - current number) is already in the map.\n",
    "3. If yes, return the indices.\n",
    "4. If no, add the current number and its index to the map.\n",
    "\n",
    "**Time Complexity:** O(n)  \n",
    "**Space Complexity:** O(n)"
   ]
  },
  {
   "cell_type": "code",
   "execution_count": 4,
   "id": "cd4ac5cb",
   "metadata": {},
   "outputs": [
    {
     "name": "stdout",
     "output_type": "stream",
     "text": [
      "The 2 indices' value that gives the target value are:  [0, 3]\n"
     ]
    }
   ],
   "source": [
    "class Solution:\n",
    "    def Two_Sum_HM(self,nums:list[int],target:int)->list[int]:\n",
    "        Val_Map={} # HashMap to store number → index\n",
    "        for i, n in enumerate(nums):\n",
    "            Sub_Val=target-n\n",
    "            # Step 1: Check if complement is already seen\n",
    "            if Sub_Val in Val_Map: # Check whether the subtracted value is in the Hash Map\n",
    "                return [Val_Map[Sub_Val],i] \n",
    "            # Step 2: Otherwise, store this number\n",
    "            Val_Map[n]=i\n",
    "        return None # If no solution (though problem says one always exists)\n",
    "nums=[2,7,11,15]\n",
    "target=17\n",
    "soln=Solution()\n",
    "res=soln.Two_Sum_HM(nums,target)\n",
    "print(\"The 2 indices' value that gives the target value are: \",res) "
   ]
  }
 ],
 "metadata": {
  "kernelspec": {
   "display_name": "Python 3",
   "language": "python",
   "name": "python3"
  },
  "language_info": {
   "codemirror_mode": {
    "name": "ipython",
    "version": 3
   },
   "file_extension": ".py",
   "mimetype": "text/x-python",
   "name": "python",
   "nbconvert_exporter": "python",
   "pygments_lexer": "ipython3",
   "version": "3.13.7"
  }
 },
 "nbformat": 4,
 "nbformat_minor": 5
}
