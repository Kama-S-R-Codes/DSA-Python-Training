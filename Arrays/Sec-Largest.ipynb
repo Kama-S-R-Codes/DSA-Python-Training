{
 "cells": [
  {
   "cell_type": "code",
   "execution_count": null,
   "id": "adab8031",
   "metadata": {},
   "outputs": [
    {
     "name": "stdout",
     "output_type": "stream",
     "text": [
      "The Array is:  [12, 35, 1, 10, 34, 1]\n",
      "The Second Largest element is:  34\n"
     ]
    }
   ],
   "source": [
    "class Second_Largest:\n",
    "    def getSecondLargest(self, arr):\n",
    "        arr.sort()\n",
    "        n=len(arr)\n",
    "\n",
    "        for i in range(n-2,-1,-1):\n",
    "            if arr[i] != arr[n-1]:\n",
    "                return arr[i]\n",
    "        return -1\n",
    "\n",
    "arr=[12,35,1,10,34,1]\n",
    "print(\"The Array is: \",arr)\n",
    "\n",
    "Second_Largest_Soln=Second_Largest()\n",
    "Result_SL=Second_Largest_Soln.getSecondLargest(arr)\n",
    "print(\"The Second Largest element is: \", Result_SL)"
   ]
  },
  {
   "cell_type": "code",
   "execution_count": null,
   "id": "c0de49cb",
   "metadata": {},
   "outputs": [],
   "source": []
  },
  {
   "cell_type": "markdown",
   "id": "bfd00445",
   "metadata": {},
   "source": []
  }
 ],
 "metadata": {
  "kernelspec": {
   "display_name": "Python 3",
   "language": "python",
   "name": "python3"
  },
  "language_info": {
   "codemirror_mode": {
    "name": "ipython",
    "version": 3
   },
   "file_extension": ".py",
   "mimetype": "text/x-python",
   "name": "python",
   "nbconvert_exporter": "python",
   "pygments_lexer": "ipython3",
   "version": "3.13.7"
  }
 },
 "nbformat": 4,
 "nbformat_minor": 5
}
