{
 "cells": [
  {
   "cell_type": "code",
   "execution_count": 20,
   "id": "adab8031",
   "metadata": {},
   "outputs": [
    {
     "name": "stdout",
     "output_type": "stream",
     "text": [
      "The array is:  [12, 35, 1, 10, 34, 1]\n",
      "The Second Largest element using Sorting is:  34\n"
     ]
    }
   ],
   "source": [
    "class Second_Largest1:\n",
    "    def getSecondLargest1(self, arr_val1):\n",
    "        arr_val1.sort()\n",
    "        n = len(arr_val1)\n",
    "\n",
    "        for i in range(n-2,-1,-1):\n",
    "            if arr_val1[i] != arr_val1[n-1]:\n",
    "                return arr_val1[i]\n",
    "        return -1\n",
    "\n",
    "arr_val1 = [12,35,1,10,34,1]\n",
    "print(\"The array is: \",arr_val1)\n",
    "\n",
    "Second_Largest_Soln1 = Second_Largest1()\n",
    "Result_SL1 = Second_Largest_Soln1.getSecondLargest1(arr_val1)\n",
    "print(\"The Second Largest element using Sorting is: \", Result_SL1)"
   ]
  },
  {
   "cell_type": "code",
   "execution_count": 21,
   "id": "c0de49cb",
   "metadata": {},
   "outputs": [
    {
     "name": "stdout",
     "output_type": "stream",
     "text": [
      "The Second Largest element using Two-Pass method is:  34\n"
     ]
    }
   ],
   "source": [
    "class Second_Largest2:\n",
    "    def getSecondLargest2(self,arr_val2):\n",
    "        n = len(arr_val2)\n",
    "        L = -1\n",
    "        SL = -1\n",
    "\n",
    "        for i in range(n):\n",
    "            if arr_val2[i] > L:\n",
    "                L = arr_val2[i]\n",
    "        \n",
    "        for i in range(n):\n",
    "            if arr_val2[i] > SL and arr_val2[i] != L:\n",
    "                SL = arr_val2[i]\n",
    "        return SL\n",
    "    \n",
    "arr_val2 = [12,35,1,10,34,1]\n",
    "\n",
    "Second_Largest_Soln2=Second_Largest2()\n",
    "Result_SL2 = Second_Largest_Soln2.getSecondLargest2(arr_val2)\n",
    "print(\"The Second Largest element using Two-Pass method is: \", Result_SL2) "
   ]
  },
  {
   "cell_type": "code",
   "execution_count": 22,
   "id": "d751b35f",
   "metadata": {},
   "outputs": [
    {
     "name": "stdout",
     "output_type": "stream",
     "text": [
      "The Second Largest element using One-Pass method is:  34\n"
     ]
    }
   ],
   "source": [
    "class Second_Largest3:\n",
    "    def getSecondLargest3(self,arr_val3):\n",
    "        n = len(arr_val3)\n",
    "        L = -1\n",
    "        SL = -1\n",
    "\n",
    "        for i in range(n):\n",
    "            if arr_val3[i] > L:\n",
    "                SL = L\n",
    "                L = arr_val3[i]\n",
    "            elif arr_val3[i] > SL and arr_val3[i] < L:\n",
    "                SL=arr_val3[i]        \n",
    "        return SL\n",
    "    \n",
    "arr_val3 = [12,35,1,10,34,1]\n",
    "\n",
    "Second_Largest_Soln3=Second_Largest3()\n",
    "Result_SL3 = Second_Largest_Soln3.getSecondLargest3(arr_val3)\n",
    "print(\"The Second Largest element using One-Pass method is: \", Result_SL3) "
   ]
  },
  {
   "cell_type": "markdown",
   "id": "bfd00445",
   "metadata": {},
   "source": []
  }
 ],
 "metadata": {
  "kernelspec": {
   "display_name": "Python 3",
   "language": "python",
   "name": "python3"
  },
  "language_info": {
   "codemirror_mode": {
    "name": "ipython",
    "version": 3
   },
   "file_extension": ".py",
   "mimetype": "text/x-python",
   "name": "python",
   "nbconvert_exporter": "python",
   "pygments_lexer": "ipython3",
   "version": "3.13.7"
  }
 },
 "nbformat": 4,
 "nbformat_minor": 5
}
